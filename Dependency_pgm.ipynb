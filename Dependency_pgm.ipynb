{
  "nbformat": 4,
  "nbformat_minor": 0,
  "metadata": {
    "colab": {
      "provenance": [],
      "authorship_tag": "ABX9TyPnq86OwIQmVh362wxiMqdN",
      "include_colab_link": true
    },
    "kernelspec": {
      "name": "python3",
      "display_name": "Python 3"
    },
    "language_info": {
      "name": "python"
    }
  },
  "cells": [
    {
      "cell_type": "markdown",
      "metadata": {
        "id": "view-in-github",
        "colab_type": "text"
      },
      "source": [
        "<a href=\"https://colab.research.google.com/github/poovendhiranr/Usecase/blob/main/Dependency_pgm.ipynb\" target=\"_parent\"><img src=\"https://colab.research.google.com/assets/colab-badge.svg\" alt=\"Open In Colab\"/></a>"
      ]
    },
    {
      "cell_type": "code",
      "execution_count": 27,
      "metadata": {
        "colab": {
          "base_uri": "https://localhost:8080/"
        },
        "id": "BGPyBVivXzzq",
        "outputId": "41e45e46-c250-44d0-e8ff-4f9903aab042"
      },
      "outputs": [
        {
          "output_type": "stream",
          "name": "stdout",
          "text": [
            "1\n",
            "2\n",
            "3\n",
            "4\n",
            "5\n",
            "5\n",
            "6\n",
            "6\n",
            "7\n",
            "7\n",
            "8\n",
            "8\n",
            "9\n",
            "9\n",
            "10\n",
            "10\n",
            "10\n",
            "10\n",
            "10\n",
            "11\n",
            "12\n",
            "13\n",
            "--> Actual Job \n",
            "########################\n",
            "PKGIDS_CMMN_UTILITY.PROCIDS_JOB_START\n",
            "pkgids_ptf_hrchy_processing.Procids_delete_job_set_nbr\n",
            "PKGIDS_PTF_EXTR.ext_static_ptf_table\n",
            "PKGIDS_PTF_EXTR.ext_eff_ptf_table\n",
            "pkgids_ptf_hrchy_processing.procids_get_tree_a\n",
            "pkgids_ptf_hrchy_processing.procids_get_tree_b\n",
            "pkgids_ptf_hrchy_processing.procids_get_tree_c\n",
            "pkgids_ptf_hrchy_processing.procids_get_tree_d\n",
            "pkgids_ptf_hrchy_processing.procids_get_tree_e\n",
            "pkgids_ptf_hrchy_processing.procids_get_active_portf\n",
            "pkgids_ptf_lineage.procids_process_ptf_lineage\n",
            "pkgids_ptf_lineage.procids_summary_to_bookable_rs\n",
            "PKGIDS_CMMN_UTILITY.PROCIDS_JOB_END\n"
          ]
        }
      ],
      "source": [
        "import pandas as pd\n",
        "prog_name_data = pd.read_excel('/content/TO_DO_TEST.xlsx', sheet_name='PROG_NAME')\n",
        "dependency_rules_data = pd.read_excel('/content/TO_DO_TEST.xlsx', sheet_name='DEPENDENCY_RULES')\n",
        "\n",
        "prog_name_df = pd.DataFrame(prog_name_data)\n",
        "dependency_rules_df = pd.DataFrame(dependency_rules_data)\n",
        "\n",
        "def decipher_dependencies(unit_nbr, prog_name_df, dependency_rules_df):\n",
        "    prog_name_filtered = prog_name_df[prog_name_df['UNIT_NBR'] == unit_nbr]\n",
        "    dependency_rules_filtered = dependency_rules_df[dependency_rules_df['UNIT_NBR'] == unit_nbr]\n",
        "    seq_id_to_name = dict(zip(prog_name_filtered['STEP_SEQ_ID'], prog_name_filtered['STEP_PROG_NAME']))\n",
        "    resolved = []\n",
        "    unresolved = []\n",
        "\n",
        "    def resolve(step_seq_id):\n",
        "        if step_seq_id in resolved:\n",
        "            return\n",
        "        if step_seq_id in unresolved:\n",
        "            raise Exception(\"Circular dependency \")\n",
        "\n",
        "        unresolved.append(step_seq_id)\n",
        "\n",
        "\n",
        "        dependencies = dependency_rules_filtered[dependency_rules_filtered['STEP_SEQ_ID'] == step_seq_id]['STEP_DEP_ID']\n",
        "        for dep in dependencies:\n",
        "            if dep != 0:\n",
        "                resolve(dep)\n",
        "            print(step_seq_id)\n",
        "\n",
        "        unresolved.remove(step_seq_id)\n",
        "        resolved.append(step_seq_id)\n",
        "\n",
        "\n",
        "    for step_seq_id in prog_name_filtered['STEP_SEQ_ID']:\n",
        "        resolve(step_seq_id)\n",
        "    print(\"--> Actual Job \")\n",
        "    print(\"########################\")\n",
        "    for step_seq_id in resolved:\n",
        "        print(seq_id_to_name[step_seq_id])\n",
        "\n",
        "decipher_dependencies(1, prog_name_df, dependency_rules_df)"
      ]
    }
  ]
}